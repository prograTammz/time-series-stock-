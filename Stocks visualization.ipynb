{
 "cells": [
  {
   "cell_type": "code",
   "execution_count": 1,
   "metadata": {},
   "outputs": [],
   "source": [
    "import matplotlib.pyplot as plt\n",
    "import pandas as pd\n",
    "import numpy as np"
   ]
  },
  {
   "cell_type": "code",
   "execution_count": 2,
   "metadata": {},
   "outputs": [],
   "source": [
    "data = pd.read_csv('stocks.csv')"
   ]
  },
  {
   "cell_type": "code",
   "execution_count": 3,
   "metadata": {},
   "outputs": [
    {
     "data": {
      "text/html": [
       "<div>\n",
       "<style scoped>\n",
       "    .dataframe tbody tr th:only-of-type {\n",
       "        vertical-align: middle;\n",
       "    }\n",
       "\n",
       "    .dataframe tbody tr th {\n",
       "        vertical-align: top;\n",
       "    }\n",
       "\n",
       "    .dataframe thead th {\n",
       "        text-align: right;\n",
       "    }\n",
       "</style>\n",
       "<table border=\"1\" class=\"dataframe\">\n",
       "  <thead>\n",
       "    <tr style=\"text-align: right;\">\n",
       "      <th></th>\n",
       "      <th>Date</th>\n",
       "      <th>AAPL</th>\n",
       "      <th>IBM</th>\n",
       "      <th>CSCO</th>\n",
       "      <th>MSFT</th>\n",
       "    </tr>\n",
       "  </thead>\n",
       "  <tbody>\n",
       "    <tr>\n",
       "      <td>0</td>\n",
       "      <td>2000-01-03</td>\n",
       "      <td>111.937502</td>\n",
       "      <td>116.0000</td>\n",
       "      <td>108.0625</td>\n",
       "      <td>116.5625</td>\n",
       "    </tr>\n",
       "    <tr>\n",
       "      <td>1</td>\n",
       "      <td>2000-01-04</td>\n",
       "      <td>102.500003</td>\n",
       "      <td>112.0625</td>\n",
       "      <td>102.0000</td>\n",
       "      <td>112.6250</td>\n",
       "    </tr>\n",
       "    <tr>\n",
       "      <td>2</td>\n",
       "      <td>2000-01-05</td>\n",
       "      <td>103.999997</td>\n",
       "      <td>116.0000</td>\n",
       "      <td>101.6875</td>\n",
       "      <td>113.8125</td>\n",
       "    </tr>\n",
       "    <tr>\n",
       "      <td>3</td>\n",
       "      <td>2000-01-06</td>\n",
       "      <td>94.999998</td>\n",
       "      <td>114.0000</td>\n",
       "      <td>100.0000</td>\n",
       "      <td>110.0000</td>\n",
       "    </tr>\n",
       "    <tr>\n",
       "      <td>4</td>\n",
       "      <td>2000-01-07</td>\n",
       "      <td>99.500001</td>\n",
       "      <td>113.5000</td>\n",
       "      <td>105.8750</td>\n",
       "      <td>111.4375</td>\n",
       "    </tr>\n",
       "  </tbody>\n",
       "</table>\n",
       "</div>"
      ],
      "text/plain": [
       "         Date        AAPL       IBM      CSCO      MSFT\n",
       "0  2000-01-03  111.937502  116.0000  108.0625  116.5625\n",
       "1  2000-01-04  102.500003  112.0625  102.0000  112.6250\n",
       "2  2000-01-05  103.999997  116.0000  101.6875  113.8125\n",
       "3  2000-01-06   94.999998  114.0000  100.0000  110.0000\n",
       "4  2000-01-07   99.500001  113.5000  105.8750  111.4375"
      ]
     },
     "execution_count": 3,
     "metadata": {},
     "output_type": "execute_result"
    }
   ],
   "source": [
    "data.head()"
   ]
  },
  {
   "cell_type": "code",
   "execution_count": 5,
   "metadata": {},
   "outputs": [],
   "source": [
    "aapl = data['AAPL']\n",
    "csco = data['CSCO']\n",
    "ibm = data['IBM']\n",
    "msft = data['MSFT']"
   ]
  },
  {
   "cell_type": "code",
   "execution_count": 6,
   "metadata": {},
   "outputs": [
    {
     "data": {
      "image/png": "[encoded data removed]",
      "text/plain": [
       "<Figure size 432x288 with 1 Axes>"
      ]
     },
     "metadata": {
      "needs_background": "light"
     },
     "output_type": "display_data"
    }
   ],
   "source": [
    "# Plot the aapl time series in blue\n",
    "plt.plot(aapl, color='blue', label='AAPL')\n",
    "\n",
    "# Plot the ibm time series in green\n",
    "plt.plot(ibm, color='green', label='IBM')\n",
    "\n",
    "# Plot the csco time series in red\n",
    "plt.plot(csco, color='red', label='CSCO')\n",
    "\n",
    "# Plot the msft time series in magenta\n",
    "plt.plot(msft, color='magenta', label='MSFT')\n",
    "\n",
    "# Add a legend in the top left corner of the plot\n",
    "plt.legend(loc='upper left')\n",
    "\n",
    "# Specify the orientation of the xticks\n",
    "plt.xticks(rotation=60)\n",
    "\n",
    "# Display the plot\n",
    "plt.show()"
   ]
  },
  {
   "cell_type": "code",
   "execution_count": null,
   "metadata": {},
   "outputs": [],
   "source": []
  }
 ],
 "metadata": {
  "kernelspec": {
   "display_name": "Python 3",
   "language": "python",
   "name": "python3"
  },
  "language_info": {
   "codemirror_mode": {
    "name": "ipython",
    "version": 3
   },
   "file_extension": ".py",
   "mimetype": "text/x-python",
   "name": "python",
   "nbconvert_exporter": "python",
   "pygments_lexer": "ipython3",
   "version": "3.7.4"
  }
 },
 "nbformat": 4,
 "nbformat_minor": 2
}
